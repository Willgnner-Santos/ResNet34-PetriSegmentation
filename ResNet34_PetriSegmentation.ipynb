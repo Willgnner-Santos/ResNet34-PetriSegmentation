{
  "cells": [
    {
      "cell_type": "markdown",
      "metadata": {
        "id": "view-in-github",
        "colab_type": "text"
      },
      "source": [
        "<a href=\"https://colab.research.google.com/github/Willgnner-Santos/ResNet34-PetriSegmentation/blob/main/ResNet34_PetriSegmentation.ipynb\" target=\"_parent\"><img src=\"https://colab.research.google.com/assets/colab-badge.svg\" alt=\"Open In Colab\"/></a>"
      ]
    },
    {
      "cell_type": "code",
      "execution_count": null,
      "metadata": {
        "colab": {
          "base_uri": "https://localhost:8080/"
        },
        "id": "KRW6jINhW_gT",
        "outputId": "0fe48d91-75f7-49b2-80f4-d5076976dd45"
      },
      "outputs": [
        {
          "output_type": "stream",
          "name": "stdout",
          "text": [
            "Looking in indexes: https://pypi.org/simple, https://us-python.pkg.dev/colab-wheels/public/simple/\n",
            "Collecting segmentation-models-pytorch\n",
            "  Downloading segmentation_models_pytorch-0.3.0-py3-none-any.whl (97 kB)\n",
            "\u001b[K     |████████████████████████████████| 97 kB 7.2 MB/s \n",
            "\u001b[?25hCollecting pretrainedmodels==0.7.4\n",
            "  Downloading pretrainedmodels-0.7.4.tar.gz (58 kB)\n",
            "\u001b[K     |████████████████████████████████| 58 kB 7.2 MB/s \n",
            "\u001b[?25hRequirement already satisfied: tqdm in /usr/local/lib/python3.7/dist-packages (from segmentation-models-pytorch) (4.64.1)\n",
            "Collecting timm==0.4.12\n",
            "  Downloading timm-0.4.12-py3-none-any.whl (376 kB)\n",
            "\u001b[K     |████████████████████████████████| 376 kB 44.6 MB/s \n",
            "\u001b[?25hRequirement already satisfied: pillow in /usr/local/lib/python3.7/dist-packages (from segmentation-models-pytorch) (7.1.2)\n",
            "Requirement already satisfied: torchvision>=0.5.0 in /usr/local/lib/python3.7/dist-packages (from segmentation-models-pytorch) (0.13.1+cu113)\n",
            "Collecting efficientnet-pytorch==0.7.1\n",
            "  Downloading efficientnet_pytorch-0.7.1.tar.gz (21 kB)\n",
            "Requirement already satisfied: torch in /usr/local/lib/python3.7/dist-packages (from efficientnet-pytorch==0.7.1->segmentation-models-pytorch) (1.12.1+cu113)\n",
            "Collecting munch\n",
            "  Downloading munch-2.5.0-py2.py3-none-any.whl (10 kB)\n",
            "Requirement already satisfied: typing-extensions in /usr/local/lib/python3.7/dist-packages (from torch->efficientnet-pytorch==0.7.1->segmentation-models-pytorch) (4.1.1)\n",
            "Requirement already satisfied: requests in /usr/local/lib/python3.7/dist-packages (from torchvision>=0.5.0->segmentation-models-pytorch) (2.23.0)\n",
            "Requirement already satisfied: numpy in /usr/local/lib/python3.7/dist-packages (from torchvision>=0.5.0->segmentation-models-pytorch) (1.21.6)\n",
            "Requirement already satisfied: six in /usr/local/lib/python3.7/dist-packages (from munch->pretrainedmodels==0.7.4->segmentation-models-pytorch) (1.15.0)\n",
            "Requirement already satisfied: chardet<4,>=3.0.2 in /usr/local/lib/python3.7/dist-packages (from requests->torchvision>=0.5.0->segmentation-models-pytorch) (3.0.4)\n",
            "Requirement already satisfied: certifi>=2017.4.17 in /usr/local/lib/python3.7/dist-packages (from requests->torchvision>=0.5.0->segmentation-models-pytorch) (2022.9.24)\n",
            "Requirement already satisfied: idna<3,>=2.5 in /usr/local/lib/python3.7/dist-packages (from requests->torchvision>=0.5.0->segmentation-models-pytorch) (2.10)\n",
            "Requirement already satisfied: urllib3!=1.25.0,!=1.25.1,<1.26,>=1.21.1 in /usr/local/lib/python3.7/dist-packages (from requests->torchvision>=0.5.0->segmentation-models-pytorch) (1.24.3)\n",
            "Building wheels for collected packages: efficientnet-pytorch, pretrainedmodels\n",
            "  Building wheel for efficientnet-pytorch (setup.py) ... \u001b[?25l\u001b[?25hdone\n",
            "  Created wheel for efficientnet-pytorch: filename=efficientnet_pytorch-0.7.1-py3-none-any.whl size=16446 sha256=3513c9f7d6502678671732b405e38268642082f8d8055cb43a58059fef1a322e\n",
            "  Stored in directory: /root/.cache/pip/wheels/0e/cc/b2/49e74588263573ff778da58cc99b9c6349b496636a7e165be6\n",
            "  Building wheel for pretrainedmodels (setup.py) ... \u001b[?25l\u001b[?25hdone\n",
            "  Created wheel for pretrainedmodels: filename=pretrainedmodels-0.7.4-py3-none-any.whl size=60965 sha256=1f40e10df50d807edcd398a4ca5779851ebccd6df80bdd02fbdaa0c217b4d354\n",
            "  Stored in directory: /root/.cache/pip/wheels/ed/27/e8/9543d42de2740d3544db96aefef63bda3f2c1761b3334f4873\n",
            "Successfully built efficientnet-pytorch pretrainedmodels\n",
            "Installing collected packages: munch, timm, pretrainedmodels, efficientnet-pytorch, segmentation-models-pytorch\n",
            "Successfully installed efficientnet-pytorch-0.7.1 munch-2.5.0 pretrainedmodels-0.7.4 segmentation-models-pytorch-0.3.0 timm-0.4.12\n"
          ]
        }
      ],
      "source": [
        "pip install segmentation-models-pytorch"
      ]
    },
    {
      "cell_type": "code",
      "execution_count": null,
      "metadata": {
        "colab": {
          "background_save": true,
          "base_uri": "https://localhost:8080/"
        },
        "id": "YU7CuSgZOeKn",
        "outputId": "e5cf195f-78fa-402b-8de9-61855a221175"
      },
      "outputs": [
        {
          "name": "stdout",
          "output_type": "stream",
          "text": [
            "Mon Jan 31 23:05:27 2022       \n",
            "+-----------------------------------------------------------------------------+\n",
            "| NVIDIA-SMI 495.46       Driver Version: 460.32.03    CUDA Version: 11.2     |\n",
            "|-------------------------------+----------------------+----------------------+\n",
            "| GPU  Name        Persistence-M| Bus-Id        Disp.A | Volatile Uncorr. ECC |\n",
            "| Fan  Temp  Perf  Pwr:Usage/Cap|         Memory-Usage | GPU-Util  Compute M. |\n",
            "|                               |                      |               MIG M. |\n",
            "|===============================+======================+======================|\n",
            "|   0  Tesla P100-PCIE...  Off  | 00000000:00:04.0 Off |                    0 |\n",
            "| N/A   35C    P0    27W / 250W |      0MiB / 16280MiB |      0%      Default |\n",
            "|                               |                      |                  N/A |\n",
            "+-------------------------------+----------------------+----------------------+\n",
            "                                                                               \n",
            "+-----------------------------------------------------------------------------+\n",
            "| Processes:                                                                  |\n",
            "|  GPU   GI   CI        PID   Type   Process name                  GPU Memory |\n",
            "|        ID   ID                                                   Usage      |\n",
            "|=============================================================================|\n",
            "|  No running processes found                                                 |\n",
            "+-----------------------------------------------------------------------------+\n"
          ]
        }
      ],
      "source": [
        "!nvidia-smi"
      ]
    },
    {
      "cell_type": "code",
      "execution_count": null,
      "metadata": {
        "colab": {
          "base_uri": "https://localhost:8080/"
        },
        "id": "RA8Z90ByXbGu",
        "outputId": "56701db5-c90f-4a9a-8ccc-c6b39b89b606"
      },
      "outputs": [
        {
          "output_type": "stream",
          "name": "stdout",
          "text": [
            "Mounted at /content/gdrive\n"
          ]
        }
      ],
      "source": [
        "from google.colab import drive\n",
        "\n",
        "drive.mount('/content/gdrive')"
      ]
    },
    {
      "cell_type": "code",
      "execution_count": null,
      "metadata": {
        "colab": {
          "base_uri": "https://localhost:8080/"
        },
        "id": "Culatof8XvQY",
        "outputId": "6c256faa-30ea-488c-8a29-36846adfbd11"
      },
      "outputs": [
        {
          "name": "stdout",
          "output_type": "stream",
          "text": [
            "Archive:  /content/gdrive/MyDrive/Halos/Halos.zip\n",
            "   creating: ./Halos/Original_images/\n",
            "  inflating: ./Halos/Original_images/1.jpg  \n",
            "  inflating: ./Halos/Original_images/10.jpg  \n",
            "  inflating: ./Halos/Original_images/11.jpg  \n",
            "  inflating: ./Halos/Original_images/12.jpg  \n",
            "  inflating: ./Halos/Original_images/13.jpg  \n",
            "  inflating: ./Halos/Original_images/14.jpg  \n",
            "  inflating: ./Halos/Original_images/15.jpg  \n",
            "  inflating: ./Halos/Original_images/16.jpg  \n",
            "  inflating: ./Halos/Original_images/17.jpg  \n",
            "  inflating: ./Halos/Original_images/18.jpg  \n",
            "  inflating: ./Halos/Original_images/19.jpg  \n",
            "  inflating: ./Halos/Original_images/2.jpg  \n",
            "  inflating: ./Halos/Original_images/20.jpg  \n",
            "  inflating: ./Halos/Original_images/21.jpg  \n",
            "  inflating: ./Halos/Original_images/22.jpg  \n",
            "  inflating: ./Halos/Original_images/23.jpg  \n",
            "  inflating: ./Halos/Original_images/24.jpg  \n",
            "  inflating: ./Halos/Original_images/25.jpg  \n",
            "  inflating: ./Halos/Original_images/26.jpg  \n",
            "  inflating: ./Halos/Original_images/27.jpg  \n",
            "  inflating: ./Halos/Original_images/28.jpg  \n",
            "  inflating: ./Halos/Original_images/29.jpg  \n",
            "  inflating: ./Halos/Original_images/3.jpg  \n",
            "  inflating: ./Halos/Original_images/30.jpg  \n",
            "  inflating: ./Halos/Original_images/31.jpg  \n",
            "  inflating: ./Halos/Original_images/32.jpg  \n",
            "  inflating: ./Halos/Original_images/33.jpg  \n",
            "  inflating: ./Halos/Original_images/34.jpg  \n",
            "  inflating: ./Halos/Original_images/35.jpg  \n",
            "  inflating: ./Halos/Original_images/36.jpg  \n",
            "  inflating: ./Halos/Original_images/37.jpg  \n",
            "  inflating: ./Halos/Original_images/38.jpg  \n",
            "  inflating: ./Halos/Original_images/39.jpg  \n",
            "  inflating: ./Halos/Original_images/4.jpg  \n",
            "  inflating: ./Halos/Original_images/40.jpg  \n",
            "  inflating: ./Halos/Original_images/41.jpg  \n",
            "  inflating: ./Halos/Original_images/42.jpg  \n",
            "  inflating: ./Halos/Original_images/43.jpg  \n",
            "  inflating: ./Halos/Original_images/44.jpg  \n",
            "  inflating: ./Halos/Original_images/45.jpg  \n",
            "  inflating: ./Halos/Original_images/46.jpg  \n",
            "  inflating: ./Halos/Original_images/47.jpg  \n",
            "  inflating: ./Halos/Original_images/48.jpg  \n",
            "  inflating: ./Halos/Original_images/49.jpg  \n",
            "  inflating: ./Halos/Original_images/5.jpg  \n",
            "  inflating: ./Halos/Original_images/50.jpg  \n",
            "  inflating: ./Halos/Original_images/51.jpg  \n",
            "  inflating: ./Halos/Original_images/52.jpg  \n",
            "  inflating: ./Halos/Original_images/53.jpg  \n",
            "  inflating: ./Halos/Original_images/54.jpg  \n",
            "  inflating: ./Halos/Original_images/55.jpg  \n",
            "  inflating: ./Halos/Original_images/56.jpg  \n",
            "  inflating: ./Halos/Original_images/57.jpg  \n",
            "  inflating: ./Halos/Original_images/58.jpg  \n",
            "  inflating: ./Halos/Original_images/59.jpg  \n",
            "  inflating: ./Halos/Original_images/6.jpg  \n",
            "  inflating: ./Halos/Original_images/60.jpg  \n",
            "  inflating: ./Halos/Original_images/61.jpg  \n",
            "  inflating: ./Halos/Original_images/62.jpg  \n",
            "  inflating: ./Halos/Original_images/63.jpg  \n",
            "  inflating: ./Halos/Original_images/64.jpg  \n",
            "  inflating: ./Halos/Original_images/65.jpg  \n",
            "  inflating: ./Halos/Original_images/66.jpg  \n",
            "  inflating: ./Halos/Original_images/67.jpg  \n",
            "  inflating: ./Halos/Original_images/68.jpg  \n",
            "  inflating: ./Halos/Original_images/69.jpg  \n",
            "  inflating: ./Halos/Original_images/7.jpg  \n",
            "  inflating: ./Halos/Original_images/70.jpg  \n",
            "  inflating: ./Halos/Original_images/71.jpg  \n",
            "  inflating: ./Halos/Original_images/72.jpg  \n",
            "  inflating: ./Halos/Original_images/73.jpg  \n",
            "  inflating: ./Halos/Original_images/74.jpg  \n",
            "  inflating: ./Halos/Original_images/8.jpg  \n",
            "  inflating: ./Halos/Original_images/9.jpg  \n",
            "   creating: ./Halos/ROI/\n",
            "  inflating: ./Halos/ROI/1.jpg       \n",
            "  inflating: ./Halos/ROI/10.jpg      \n",
            "  inflating: ./Halos/ROI/11.jpg      \n",
            "  inflating: ./Halos/ROI/12.jpg      \n",
            "  inflating: ./Halos/ROI/13.jpg      \n",
            "  inflating: ./Halos/ROI/14.jpg      \n",
            "  inflating: ./Halos/ROI/15.jpg      \n",
            "  inflating: ./Halos/ROI/16.jpg      \n",
            "  inflating: ./Halos/ROI/17.jpg      \n",
            "  inflating: ./Halos/ROI/18.jpg      \n",
            "  inflating: ./Halos/ROI/19.jpg      \n",
            "  inflating: ./Halos/ROI/2.jpg       \n",
            "  inflating: ./Halos/ROI/20.jpg      \n",
            "  inflating: ./Halos/ROI/21.jpg      \n",
            "  inflating: ./Halos/ROI/22.jpg      \n",
            "  inflating: ./Halos/ROI/23.jpg      \n",
            "  inflating: ./Halos/ROI/24.jpg      \n",
            "  inflating: ./Halos/ROI/25.jpg      \n",
            "  inflating: ./Halos/ROI/26.jpg      \n",
            "  inflating: ./Halos/ROI/27.jpg      \n",
            "  inflating: ./Halos/ROI/28.jpg      \n",
            "  inflating: ./Halos/ROI/29.jpg      \n",
            "  inflating: ./Halos/ROI/3.jpg       \n",
            "  inflating: ./Halos/ROI/30.jpg      \n",
            "  inflating: ./Halos/ROI/31.jpg      \n",
            "  inflating: ./Halos/ROI/32.jpg      \n",
            "  inflating: ./Halos/ROI/33.jpg      \n",
            "  inflating: ./Halos/ROI/34.jpg      \n",
            "  inflating: ./Halos/ROI/35.jpg      \n",
            "  inflating: ./Halos/ROI/36.jpg      \n",
            "  inflating: ./Halos/ROI/37.jpg      \n",
            "  inflating: ./Halos/ROI/38.jpg      \n",
            "  inflating: ./Halos/ROI/39.jpg      \n",
            "  inflating: ./Halos/ROI/4.jpg       \n",
            "  inflating: ./Halos/ROI/40.jpg      \n",
            "  inflating: ./Halos/ROI/41.jpg      \n",
            "  inflating: ./Halos/ROI/42.jpg      \n",
            "  inflating: ./Halos/ROI/43.jpg      \n",
            "  inflating: ./Halos/ROI/44.jpg      \n",
            "  inflating: ./Halos/ROI/45.jpg      \n",
            "  inflating: ./Halos/ROI/46.jpg      \n",
            "  inflating: ./Halos/ROI/47.jpg      \n",
            "  inflating: ./Halos/ROI/48.jpg      \n",
            "  inflating: ./Halos/ROI/49.jpg      \n",
            "  inflating: ./Halos/ROI/5.jpg       \n",
            "  inflating: ./Halos/ROI/50.jpg      \n",
            "  inflating: ./Halos/ROI/51.jpg      \n",
            "  inflating: ./Halos/ROI/52.jpg      \n",
            "  inflating: ./Halos/ROI/53.jpg      \n",
            "  inflating: ./Halos/ROI/54.jpg      \n",
            "  inflating: ./Halos/ROI/55.jpg      \n",
            "  inflating: ./Halos/ROI/56.jpg      \n",
            "  inflating: ./Halos/ROI/57.jpg      \n",
            "  inflating: ./Halos/ROI/58.jpg      \n",
            "  inflating: ./Halos/ROI/59.jpg      \n",
            "  inflating: ./Halos/ROI/6.jpg       \n",
            "  inflating: ./Halos/ROI/60.jpg      \n",
            "  inflating: ./Halos/ROI/61.jpg      \n",
            "  inflating: ./Halos/ROI/62.jpg      \n",
            "  inflating: ./Halos/ROI/63.jpg      \n",
            "  inflating: ./Halos/ROI/64.jpg      \n",
            "  inflating: ./Halos/ROI/65.jpg      \n",
            "  inflating: ./Halos/ROI/66.jpg      \n",
            "  inflating: ./Halos/ROI/67.jpg      \n",
            "  inflating: ./Halos/ROI/68.jpg      \n",
            "  inflating: ./Halos/ROI/69.jpg      \n",
            "  inflating: ./Halos/ROI/7.jpg       \n",
            "  inflating: ./Halos/ROI/70.jpg      \n",
            "  inflating: ./Halos/ROI/71.jpg      \n",
            "  inflating: ./Halos/ROI/72.jpg      \n",
            "  inflating: ./Halos/ROI/73.jpg      \n",
            "  inflating: ./Halos/ROI/74.jpg      \n",
            "  inflating: ./Halos/ROI/8.jpg       \n",
            "  inflating: ./Halos/ROI/9.jpg       \n"
          ]
        }
      ],
      "source": [
        "!unzip /content/gdrive/MyDrive/Halos/Halos.zip -d ./"
      ]
    },
    {
      "cell_type": "markdown",
      "metadata": {
        "id": "-3pSdilpzRS2"
      },
      "source": [
        "## Imports necessários"
      ]
    },
    {
      "cell_type": "code",
      "execution_count": null,
      "metadata": {
        "id": "oV_DNES2YUMN"
      },
      "outputs": [],
      "source": [
        "import torch\n",
        "import torch.nn\n",
        "from torch.utils.data import Dataset, DataLoader\n",
        "import os\n",
        "import numpy as np\n",
        "import pandas as pd\n",
        "from torchvision.io import read_image\n",
        "import math\n",
        "import torchvision\n",
        "from torchvision import transforms\n",
        "import matplotlib.pyplot as plt\n",
        "import segmentation_models_pytorch as smp"
      ]
    },
    {
      "cell_type": "code",
      "execution_count": null,
      "metadata": {
        "id": "3Kzs27CV_zVr"
      },
      "outputs": [],
      "source": [
        "import pandas as pd\n",
        "from torchvision.io import read_image\n",
        "\n",
        "class halosDataset(Dataset):\n",
        "  def __init__(self, img_dir, mask_dir, transform=None):\n",
        "    self.img_dir = img_dir\n",
        "    self.mask_dir = mask_dir\n",
        "    self.transform = transform\n",
        "    self.img_list = os.listdir(img_dir)\n",
        "    self.lenght = len(self.img_list)\n",
        "\n",
        "  def __len__(self):\n",
        "    return self.lenght\n",
        "\n",
        "  def __getitem__(self, idx):\n",
        "    img_path = os.path.join(self.img_dir, self.img_list[idx])\n",
        "    image = read_image(img_path)\n",
        "    mask_path = os.path.join(self.mask_dir, self.img_list[idx])\n",
        "    mask = read_image(mask_path)\n",
        "\n",
        "    # Descartando o terceiro canal de cor (somente preto)\n",
        "    mask = mask[:2]\n",
        "\n",
        "    # Aplicando transformações nas imagens (resize)\n",
        "    if self.transform:\n",
        "        image = self.transform(image)\n",
        "        mask = self.transform(mask)\n",
        "\n",
        "    # Aplicando threshhold nos canais\n",
        "    mask[0][mask[0] > 127] = 255\n",
        "    mask[0][mask[0] < 127] = 0\n",
        "    mask[1][mask[1] > 127] = 255\n",
        "    mask[1][mask[1] < 127] = 0\n",
        "\n",
        "    # Normalizando a imagem e a máscara\n",
        "    return image/255.0, mask/255.0"
      ]
    },
    {
      "cell_type": "code",
      "execution_count": null,
      "metadata": {
        "id": "bEens80jCKa8"
      },
      "outputs": [],
      "source": [
        "import math\n",
        "import torchvision\n",
        "from torchvision import transforms\n",
        "\n",
        "transfs = torch.nn.Sequential(\n",
        "    transforms.Resize((256,256), interpolation=torchvision.transforms.InterpolationMode.NEAREST),\n",
        ")\n",
        "\n",
        "\n",
        "dataset = halosDataset('/content/Halos/Original_images','/content/Halos/ROI',transform=transfs)\n",
        "\n",
        "lengths = [math.ceil(len(dataset)*0.8), int(len(dataset)*0.2)]\n",
        "train_dataset, valid_dataset = torch.utils.data.random_split(dataset, lengths)"
      ]
    },
    {
      "cell_type": "code",
      "execution_count": null,
      "metadata": {
        "colab": {
          "base_uri": "https://localhost:8080/",
          "height": 265
        },
        "id": "vMVYJZjqhuuZ",
        "outputId": "9cc9d747-2b4e-4a6a-b864-758f2faebe84"
      },
      "outputs": [
        {
          "data": {
            "text/plain": [
              "<matplotlib.image.AxesImage at 0x7fbf5a0d0610>"
            ]
          },
          "execution_count": 12,
          "metadata": {},
          "output_type": "execute_result"
        },
        {
          "data": {
            "image/png": "[encoded data removed]",
            "text/plain": [
              "<Figure size 864x576 with 3 Axes>"
            ]
          },
          "metadata": {},
          "output_type": "display_data"
        }
      ],
      "source": [
        "import matplotlib.pyplot as plt\n",
        "\n",
        "image1, mask1 = train_dataset[1]\n",
        "\n",
        "plt.figure(figsize=((12,8)))\n",
        "\n",
        "plt.subplot(1,3,1)\n",
        "plt.imshow(image1[0], cmap='gray')\n",
        "plt.subplot(1,3,2)\n",
        "plt.imshow(mask1[0], cmap='gray')\n",
        "plt.subplot(1,3,3)\n",
        "plt.imshow(mask1[1], cmap='gray')"
      ]
    },
    {
      "cell_type": "code",
      "execution_count": null,
      "metadata": {
        "colab": {
          "base_uri": "https://localhost:8080/"
        },
        "id": "0SqvOCfSwYfQ",
        "outputId": "77f43ee6-0616-4113-a3a1-7d97421805a1"
      },
      "outputs": [
        {
          "name": "stdout",
          "output_type": "stream",
          "text": [
            "torch.Size([3, 256, 256]) torch.Size([2, 256, 256])\n"
          ]
        }
      ],
      "source": [
        "print(image1.shape, mask1.shape)"
      ]
    },
    {
      "cell_type": "code",
      "execution_count": null,
      "metadata": {
        "colab": {
          "base_uri": "https://localhost:8080/"
        },
        "id": "ODTQCErDhzmk",
        "outputId": "fa09071b-835e-4f5d-ff42-aeef909c5552"
      },
      "outputs": [
        {
          "data": {
            "text/plain": [
              "(array([63738,     0,     0,     0,    24,     0,     0,     0,     0,\n",
              "         1774]), array([0. , 0.1, 0.2, 0.3, 0.4, 0.5, 0.6, 0.7, 0.8, 0.9, 1. ],\n",
              "       dtype=float32))"
            ]
          },
          "execution_count": 14,
          "metadata": {},
          "output_type": "execute_result"
        }
      ],
      "source": [
        "np.histogram(mask1[1])"
      ]
    },
    {
      "cell_type": "markdown",
      "metadata": {
        "id": "zUugWv5lzL6t"
      },
      "source": [
        "## Criação do Data Loader"
      ]
    },
    {
      "cell_type": "code",
      "execution_count": null,
      "metadata": {
        "id": "1S9Q0aTnl5Xx"
      },
      "outputs": [],
      "source": [
        "# Carregador de dados com batch_size\n",
        "batch_size = 16\n",
        "\n",
        "train_loader = DataLoader(train_dataset, batch_size=batch_size, shuffle=True)\n",
        "valid_loader = DataLoader(valid_dataset, batch_size=batch_size, shuffle=False)"
      ]
    },
    {
      "cell_type": "markdown",
      "metadata": {
        "id": "Z_nHvTtF0ojp"
      },
      "source": [
        "## Criação do modelo"
      ]
    },
    {
      "cell_type": "code",
      "execution_count": null,
      "metadata": {
        "id": "Re4QnNKwmnir"
      },
      "outputs": [],
      "source": [
        "import segmentation_models_pytorch as smp"
      ]
    },
    {
      "cell_type": "code",
      "execution_count": null,
      "metadata": {
        "colab": {
          "base_uri": "https://localhost:8080/",
          "height": 86,
          "referenced_widgets": [
            "2e3bb4274e774cc4b5a22fb763f1c4a3",
            "e90727da98034fa38f3cd2ce56ccedb6",
            "edc3347af46b416b9b5ea69e98d90322",
            "3f3c0d1c37ce44d38ed27de87bd77b26",
            "fc200403c3bb463681397baaec2921f9",
            "787ee4ec2fb2425d97551537199a49fb",
            "8e1d26bfbe514cceaa7c3aaf783570c5",
            "c52a7088baf143699fbc24d4b4ce1b7f",
            "8926b53c756946448a401a840b004fdd",
            "efd3a9f987de49b5857d863dd7f49abb",
            "3d64f2c7e5a94b61a243931c9d31ae33"
          ]
        },
        "id": "M7KhmclDYuXy",
        "outputId": "b71823f3-f9c9-4a0a-b6ae-bbce6dadeece"
      },
      "outputs": [
        {
          "name": "stderr",
          "output_type": "stream",
          "text": [
            "Downloading: \"https://download.pytorch.org/models/resnet34-333f7ec4.pth\" to /root/.cache/torch/hub/checkpoints/resnet34-333f7ec4.pth\n"
          ]
        },
        {
          "data": {
            "application/vnd.jupyter.widget-view+json": {
              "model_id": "2e3bb4274e774cc4b5a22fb763f1c4a3",
              "version_major": 2,
              "version_minor": 0
            },
            "text/plain": [
              "  0%|          | 0.00/83.3M [00:00<?, ?B/s]"
            ]
          },
          "metadata": {},
          "output_type": "display_data"
        }
      ],
      "source": [
        "model = smp.UnetPlusPlus('resnet34', classes = 2)"
      ]
    },
    {
      "cell_type": "code",
      "execution_count": null,
      "metadata": {
        "id": "-1M24XBRqXya"
      },
      "outputs": [],
      "source": [
        "DEVICE = 'cuda'\n",
        "\n",
        "loss = smp.losses.FocalLoss(mode='multilabel')\n",
        "loss.__name__ = 'focal_loss'\n",
        "metrics = [\n",
        "    smp.utils.metrics.IoU(threshold=0.5),\n",
        "]\n",
        "optimizer = torch.optim.Adam([\n",
        "    dict(params=model.parameters(), lr=0.001),\n",
        "])\n",
        "\n",
        "train_epoch = smp.utils.train.TrainEpoch(\n",
        "    model,\n",
        "    loss=loss,\n",
        "    metrics=metrics,\n",
        "    optimizer=optimizer,\n",
        "    device=DEVICE,\n",
        "    verbose=True,\n",
        ")\n",
        "\n",
        "valid_epoch = smp.utils.train.ValidEpoch(\n",
        "    model,\n",
        "    loss=loss,\n",
        "    metrics=metrics,\n",
        "    device=DEVICE,\n",
        "    verbose=True,\n",
        ")"
      ]
    },
    {
      "cell_type": "code",
      "execution_count": null,
      "metadata": {
        "colab": {
          "base_uri": "https://localhost:8080/"
        },
        "id": "Dl5cIDF6qjA3",
        "outputId": "280684f7-ac35-4c38-d3ae-7cc48d3f18d0"
      },
      "outputs": [
        {
          "name": "stdout",
          "output_type": "stream",
          "text": [
            "\n",
            "Epoch: 0\n",
            "train: 100%|██████████| 4/4 [00:14<00:00,  3.55s/it, focal_loss - 0.1579, iou_score - 0.04124]\n",
            "valid: 100%|██████████| 1/1 [00:02<00:00,  2.63s/it, focal_loss - 0.4561, iou_score - 0.004192]\n",
            "Modelo salvo!\n",
            "\n",
            "Epoch: 1\n",
            "train: 100%|██████████| 4/4 [00:14<00:00,  3.51s/it, focal_loss - 0.119, iou_score - 0.004856]\n",
            "valid: 100%|██████████| 1/1 [00:02<00:00,  2.56s/it, focal_loss - 0.1346, iou_score - 3.89e-13]\n",
            "\n",
            "Epoch: 2\n",
            "train: 100%|██████████| 4/4 [00:13<00:00,  3.49s/it, focal_loss - 0.09494, iou_score - 0.005511]\n",
            "valid: 100%|██████████| 1/1 [00:02<00:00,  2.55s/it, focal_loss - 0.1176, iou_score - 0.003371]\n",
            "\n",
            "Epoch: 3\n",
            "train: 100%|██████████| 4/4 [00:14<00:00,  3.63s/it, focal_loss - 0.0776, iou_score - 0.01327]\n",
            "valid: 100%|██████████| 1/1 [00:02<00:00,  2.65s/it, focal_loss - 0.3962, iou_score - 0.02443]\n",
            "Modelo salvo!\n",
            "\n",
            "Epoch: 4\n",
            "train: 100%|██████████| 4/4 [00:14<00:00,  3.58s/it, focal_loss - 0.06518, iou_score - 0.2021]\n",
            "valid: 100%|██████████| 1/1 [00:02<00:00,  2.61s/it, focal_loss - 0.1343, iou_score - 0.167]\n",
            "Modelo salvo!\n",
            "\n",
            "Epoch: 5\n",
            "train: 100%|██████████| 4/4 [00:14<00:00,  3.52s/it, focal_loss - 0.0545, iou_score - 0.4828]\n",
            "valid: 100%|██████████| 1/1 [00:02<00:00,  2.57s/it, focal_loss - 0.06911, iou_score - 0.6192]\n",
            "Modelo salvo!\n",
            "\n",
            "Epoch: 6\n",
            "train: 100%|██████████| 4/4 [00:14<00:00,  3.53s/it, focal_loss - 0.0478, iou_score - 0.6215]\n",
            "valid: 100%|██████████| 1/1 [00:02<00:00,  2.61s/it, focal_loss - 0.0588, iou_score - 0.4296]\n",
            "\n",
            "Epoch: 7\n",
            "train: 100%|██████████| 4/4 [00:14<00:00,  3.55s/it, focal_loss - 0.04144, iou_score - 0.677]\n",
            "valid: 100%|██████████| 1/1 [00:02<00:00,  2.55s/it, focal_loss - 0.04448, iou_score - 0.5572]\n",
            "\n",
            "Epoch: 8\n",
            "train: 100%|██████████| 4/4 [00:14<00:00,  3.52s/it, focal_loss - 0.03722, iou_score - 0.6672]\n",
            "valid: 100%|██████████| 1/1 [00:02<00:00,  2.60s/it, focal_loss - 0.037, iou_score - 0.644]\n",
            "Modelo salvo!\n",
            "\n",
            "Epoch: 9\n",
            "train: 100%|██████████| 4/4 [00:14<00:00,  3.56s/it, focal_loss - 0.03289, iou_score - 0.7593]\n",
            "valid: 100%|██████████| 1/1 [00:02<00:00,  2.57s/it, focal_loss - 0.03351, iou_score - 0.6898]\n",
            "Modelo salvo!\n",
            "\n",
            "Epoch: 10\n",
            "train: 100%|██████████| 4/4 [00:14<00:00,  3.52s/it, focal_loss - 0.02878, iou_score - 0.715]\n",
            "valid: 100%|██████████| 1/1 [00:02<00:00,  2.60s/it, focal_loss - 0.03293, iou_score - 0.689]\n",
            "\n",
            "Epoch: 11\n",
            "train: 100%|██████████| 4/4 [00:14<00:00,  3.54s/it, focal_loss - 0.02544, iou_score - 0.7746]\n",
            "valid: 100%|██████████| 1/1 [00:02<00:00,  2.62s/it, focal_loss - 0.02966, iou_score - 0.6861]\n",
            "\n",
            "Epoch: 12\n",
            "train: 100%|██████████| 4/4 [00:14<00:00,  3.55s/it, focal_loss - 0.02357, iou_score - 0.7942]\n",
            "valid: 100%|██████████| 1/1 [00:02<00:00,  2.61s/it, focal_loss - 0.0354, iou_score - 0.6594]\n",
            "\n",
            "Epoch: 13\n",
            "train: 100%|██████████| 4/4 [00:14<00:00,  3.56s/it, focal_loss - 0.02192, iou_score - 0.7828]\n",
            "valid: 100%|██████████| 1/1 [00:02<00:00,  2.61s/it, focal_loss - 0.0262, iou_score - 0.7624]\n",
            "Modelo salvo!\n",
            "\n",
            "Epoch: 14\n",
            "train: 100%|██████████| 4/4 [00:14<00:00,  3.60s/it, focal_loss - 0.01945, iou_score - 0.7862]\n",
            "valid: 100%|██████████| 1/1 [00:02<00:00,  2.64s/it, focal_loss - 0.0246, iou_score - 0.7764]\n",
            "Modelo salvo!\n",
            "\n",
            "Epoch: 15\n",
            "train: 100%|██████████| 4/4 [00:14<00:00,  3.56s/it, focal_loss - 0.01831, iou_score - 0.82]\n",
            "valid: 100%|██████████| 1/1 [00:02<00:00,  2.65s/it, focal_loss - 0.02594, iou_score - 0.7078]\n",
            "\n",
            "Epoch: 16\n",
            "train: 100%|██████████| 4/4 [00:14<00:00,  3.56s/it, focal_loss - 0.01738, iou_score - 0.8272]\n",
            "valid: 100%|██████████| 1/1 [00:02<00:00,  2.65s/it, focal_loss - 0.02483, iou_score - 0.7629]\n",
            "\n",
            "Epoch: 17\n",
            "train: 100%|██████████| 4/4 [00:14<00:00,  3.58s/it, focal_loss - 0.01569, iou_score - 0.823]\n",
            "valid: 100%|██████████| 1/1 [00:02<00:00,  2.65s/it, focal_loss - 0.02381, iou_score - 0.7444]\n",
            "\n",
            "Epoch: 18\n",
            "train: 100%|██████████| 4/4 [00:14<00:00,  3.58s/it, focal_loss - 0.01473, iou_score - 0.8352]\n",
            "valid: 100%|██████████| 1/1 [00:02<00:00,  2.63s/it, focal_loss - 0.02455, iou_score - 0.7998]\n",
            "Modelo salvo!\n",
            "\n",
            "Epoch: 19\n",
            "train: 100%|██████████| 4/4 [00:14<00:00,  3.57s/it, focal_loss - 0.01712, iou_score - 0.8152]\n",
            "valid: 100%|██████████| 1/1 [00:02<00:00,  2.62s/it, focal_loss - 0.02352, iou_score - 0.8054]\n",
            "Modelo salvo!\n",
            "\n",
            "Epoch: 20\n",
            "train: 100%|██████████| 4/4 [00:14<00:00,  3.57s/it, focal_loss - 0.01614, iou_score - 0.8422]\n",
            "valid: 100%|██████████| 1/1 [00:02<00:00,  2.60s/it, focal_loss - 0.02195, iou_score - 0.7923]\n",
            "\n",
            "Epoch: 21\n",
            "train: 100%|██████████| 4/4 [00:14<00:00,  3.56s/it, focal_loss - 0.01597, iou_score - 0.8131]\n",
            "valid: 100%|██████████| 1/1 [00:02<00:00,  2.62s/it, focal_loss - 0.02199, iou_score - 0.7564]\n",
            "\n",
            "Epoch: 22\n",
            "train: 100%|██████████| 4/4 [00:14<00:00,  3.55s/it, focal_loss - 0.01519, iou_score - 0.8247]\n",
            "valid: 100%|██████████| 1/1 [00:02<00:00,  2.62s/it, focal_loss - 0.02298, iou_score - 0.7196]\n",
            "\n",
            "Epoch: 23\n",
            "train: 100%|██████████| 4/4 [00:14<00:00,  3.57s/it, focal_loss - 0.0155, iou_score - 0.846]\n",
            "valid: 100%|██████████| 1/1 [00:02<00:00,  2.60s/it, focal_loss - 0.02629, iou_score - 0.7107]\n",
            "\n",
            "Epoch: 24\n",
            "train: 100%|██████████| 4/4 [00:14<00:00,  3.55s/it, focal_loss - 0.01295, iou_score - 0.8332]\n",
            "valid: 100%|██████████| 1/1 [00:02<00:00,  2.62s/it, focal_loss - 0.02752, iou_score - 0.7156]\n",
            "\n",
            "Epoch: 25\n",
            "train: 100%|██████████| 4/4 [00:14<00:00,  3.53s/it, focal_loss - 0.01436, iou_score - 0.8375]\n",
            "valid: 100%|██████████| 1/1 [00:02<00:00,  2.61s/it, focal_loss - 0.02111, iou_score - 0.7857]\n",
            "Diminua a taxa de aprendizagem do decodificador para 1e-5!\n",
            "\n",
            "Epoch: 26\n",
            "train: 100%|██████████| 4/4 [00:14<00:00,  3.53s/it, focal_loss - 0.01156, iou_score - 0.877]\n",
            "valid: 100%|██████████| 1/1 [00:02<00:00,  2.57s/it, focal_loss - 0.02035, iou_score - 0.7924]\n",
            "\n",
            "Epoch: 27\n",
            "train: 100%|██████████| 4/4 [00:14<00:00,  3.53s/it, focal_loss - 0.01105, iou_score - 0.8826]\n",
            "valid: 100%|██████████| 1/1 [00:02<00:00,  2.59s/it, focal_loss - 0.01993, iou_score - 0.7961]\n",
            "\n",
            "Epoch: 28\n",
            "train: 100%|██████████| 4/4 [00:14<00:00,  3.55s/it, focal_loss - 0.01161, iou_score - 0.8727]\n",
            "valid: 100%|██████████| 1/1 [00:02<00:00,  2.61s/it, focal_loss - 0.0197, iou_score - 0.7961]\n",
            "\n",
            "Epoch: 29\n",
            "train: 100%|██████████| 4/4 [00:14<00:00,  3.53s/it, focal_loss - 0.01092, iou_score - 0.8817]\n",
            "valid: 100%|██████████| 1/1 [00:02<00:00,  2.58s/it, focal_loss - 0.01959, iou_score - 0.7976]\n",
            "\n",
            "Epoch: 30\n",
            "train: 100%|██████████| 4/4 [00:14<00:00,  3.52s/it, focal_loss - 0.01102, iou_score - 0.8797]\n",
            "valid: 100%|██████████| 1/1 [00:02<00:00,  2.61s/it, focal_loss - 0.01956, iou_score - 0.797]\n",
            "\n",
            "Epoch: 31\n",
            "train: 100%|██████████| 4/4 [00:14<00:00,  3.57s/it, focal_loss - 0.01084, iou_score - 0.8805]\n",
            "valid: 100%|██████████| 1/1 [00:02<00:00,  2.63s/it, focal_loss - 0.01956, iou_score - 0.7962]\n",
            "\n",
            "Epoch: 32\n",
            "train: 100%|██████████| 4/4 [00:14<00:00,  3.56s/it, focal_loss - 0.01083, iou_score - 0.8786]\n",
            "valid: 100%|██████████| 1/1 [00:02<00:00,  2.60s/it, focal_loss - 0.01954, iou_score - 0.796]\n",
            "\n",
            "Epoch: 33\n",
            "train: 100%|██████████| 4/4 [00:14<00:00,  3.55s/it, focal_loss - 0.01241, iou_score - 0.8577]\n",
            "valid: 100%|██████████| 1/1 [00:02<00:00,  2.60s/it, focal_loss - 0.01957, iou_score - 0.7926]\n",
            "\n",
            "Epoch: 34\n",
            "train: 100%|██████████| 4/4 [00:14<00:00,  3.54s/it, focal_loss - 0.01058, iou_score - 0.8772]\n",
            "valid: 100%|██████████| 1/1 [00:02<00:00,  2.60s/it, focal_loss - 0.0196, iou_score - 0.7917]\n",
            "\n",
            "Epoch: 35\n",
            "train: 100%|██████████| 4/4 [00:14<00:00,  3.55s/it, focal_loss - 0.01059, iou_score - 0.8741]\n",
            "valid: 100%|██████████| 1/1 [00:02<00:00,  2.63s/it, focal_loss - 0.01968, iou_score - 0.7907]\n",
            "\n",
            "Epoch: 36\n",
            "train: 100%|██████████| 4/4 [00:14<00:00,  3.55s/it, focal_loss - 0.01052, iou_score - 0.8737]\n",
            "valid: 100%|██████████| 1/1 [00:02<00:00,  2.59s/it, focal_loss - 0.01977, iou_score - 0.7895]\n",
            "\n",
            "Epoch: 37\n",
            "train: 100%|██████████| 4/4 [00:14<00:00,  3.54s/it, focal_loss - 0.01072, iou_score - 0.871]\n",
            "valid: 100%|██████████| 1/1 [00:02<00:00,  2.60s/it, focal_loss - 0.01984, iou_score - 0.7874]\n",
            "\n",
            "Epoch: 38\n",
            "train: 100%|██████████| 4/4 [00:14<00:00,  3.57s/it, focal_loss - 0.0108, iou_score - 0.8728]\n",
            "valid: 100%|██████████| 1/1 [00:02<00:00,  2.62s/it, focal_loss - 0.01987, iou_score - 0.7889]\n",
            "\n",
            "Epoch: 39\n",
            "train: 100%|██████████| 4/4 [00:14<00:00,  3.57s/it, focal_loss - 0.01007, iou_score - 0.8785]\n",
            "valid: 100%|██████████| 1/1 [00:02<00:00,  2.62s/it, focal_loss - 0.01991, iou_score - 0.7884]\n",
            "\n",
            "Epoch: 40\n",
            "train: 100%|██████████| 4/4 [00:14<00:00,  3.56s/it, focal_loss - 0.01042, iou_score - 0.8744]\n",
            "valid: 100%|██████████| 1/1 [00:02<00:00,  2.61s/it, focal_loss - 0.01993, iou_score - 0.7891]\n",
            "\n",
            "Epoch: 41\n",
            "train: 100%|██████████| 4/4 [00:14<00:00,  3.55s/it, focal_loss - 0.01111, iou_score - 0.8663]\n",
            "valid: 100%|██████████| 1/1 [00:02<00:00,  2.62s/it, focal_loss - 0.02003, iou_score - 0.7856]\n",
            "\n",
            "Epoch: 42\n",
            "train: 100%|██████████| 4/4 [00:14<00:00,  3.55s/it, focal_loss - 0.0101, iou_score - 0.877]\n",
            "valid: 100%|██████████| 1/1 [00:02<00:00,  2.61s/it, focal_loss - 0.02002, iou_score - 0.7865]\n",
            "\n",
            "Epoch: 43\n",
            "train: 100%|██████████| 4/4 [00:14<00:00,  3.56s/it, focal_loss - 0.01084, iou_score - 0.8662]\n",
            "valid: 100%|██████████| 1/1 [00:02<00:00,  2.63s/it, focal_loss - 0.02008, iou_score - 0.7849]\n",
            "\n",
            "Epoch: 44\n",
            "train: 100%|██████████| 4/4 [00:14<00:00,  3.57s/it, focal_loss - 0.01085, iou_score - 0.8666]\n",
            "valid: 100%|██████████| 1/1 [00:02<00:00,  2.63s/it, focal_loss - 0.02015, iou_score - 0.7834]\n",
            "\n",
            "Epoch: 45\n",
            "train: 100%|██████████| 4/4 [00:14<00:00,  3.55s/it, focal_loss - 0.01022, iou_score - 0.8748]\n",
            "valid: 100%|██████████| 1/1 [00:02<00:00,  2.63s/it, focal_loss - 0.0201, iou_score - 0.7859]\n",
            "\n",
            "Epoch: 46\n",
            "train: 100%|██████████| 4/4 [00:14<00:00,  3.55s/it, focal_loss - 0.01021, iou_score - 0.8761]\n",
            "valid: 100%|██████████| 1/1 [00:02<00:00,  2.62s/it, focal_loss - 0.02008, iou_score - 0.7872]\n",
            "\n",
            "Epoch: 47\n",
            "train: 100%|██████████| 4/4 [00:14<00:00,  3.56s/it, focal_loss - 0.009944, iou_score - 0.8755]\n",
            "valid: 100%|██████████| 1/1 [00:02<00:00,  2.64s/it, focal_loss - 0.02012, iou_score - 0.7863]\n",
            "\n",
            "Epoch: 48\n",
            "train: 100%|██████████| 4/4 [00:14<00:00,  3.55s/it, focal_loss - 0.009813, iou_score - 0.8781]\n",
            "valid: 100%|██████████| 1/1 [00:02<00:00,  2.59s/it, focal_loss - 0.02013, iou_score - 0.786]\n",
            "\n",
            "Epoch: 49\n",
            "train: 100%|██████████| 4/4 [00:14<00:00,  3.56s/it, focal_loss - 0.01097, iou_score - 0.8638]\n",
            "valid: 100%|██████████| 1/1 [00:02<00:00,  2.62s/it, focal_loss - 0.02008, iou_score - 0.7894]\n",
            "\n",
            "Epoch: 50\n",
            "train: 100%|██████████| 4/4 [00:14<00:00,  3.55s/it, focal_loss - 0.01136, iou_score - 0.8602]\n",
            "valid: 100%|██████████| 1/1 [00:02<00:00,  2.66s/it, focal_loss - 0.02009, iou_score - 0.7909]\n",
            "\n",
            "Epoch: 51\n",
            "train: 100%|██████████| 4/4 [00:14<00:00,  3.55s/it, focal_loss - 0.01037, iou_score - 0.8721]\n",
            "valid: 100%|██████████| 1/1 [00:02<00:00,  2.61s/it, focal_loss - 0.02019, iou_score - 0.7881]\n",
            "\n",
            "Epoch: 52\n",
            "train: 100%|██████████| 4/4 [00:14<00:00,  3.56s/it, focal_loss - 0.009917, iou_score - 0.8749]\n",
            "valid: 100%|██████████| 1/1 [00:02<00:00,  2.59s/it, focal_loss - 0.02027, iou_score - 0.7864]\n",
            "\n",
            "Epoch: 53\n",
            "train: 100%|██████████| 4/4 [00:14<00:00,  3.51s/it, focal_loss - 0.01031, iou_score - 0.8766]\n",
            "valid: 100%|██████████| 1/1 [00:02<00:00,  2.57s/it, focal_loss - 0.02027, iou_score - 0.7865]\n",
            "\n",
            "Epoch: 54\n",
            "train: 100%|██████████| 4/4 [00:14<00:00,  3.51s/it, focal_loss - 0.01002, iou_score - 0.8728]\n",
            "valid: 100%|██████████| 1/1 [00:02<00:00,  2.54s/it, focal_loss - 0.02036, iou_score - 0.7851]\n",
            "\n",
            "Epoch: 55\n",
            "train: 100%|██████████| 4/4 [00:14<00:00,  3.50s/it, focal_loss - 0.009645, iou_score - 0.8784]\n",
            "valid: 100%|██████████| 1/1 [00:02<00:00,  2.58s/it, focal_loss - 0.02033, iou_score - 0.7863]\n",
            "\n",
            "Epoch: 56\n",
            "train: 100%|██████████| 4/4 [00:14<00:00,  3.52s/it, focal_loss - 0.01025, iou_score - 0.8731]\n",
            "valid: 100%|██████████| 1/1 [00:02<00:00,  2.59s/it, focal_loss - 0.02036, iou_score - 0.7862]\n",
            "\n",
            "Epoch: 57\n",
            "train: 100%|██████████| 4/4 [00:14<00:00,  3.51s/it, focal_loss - 0.009493, iou_score - 0.8794]\n",
            "valid: 100%|██████████| 1/1 [00:02<00:00,  2.59s/it, focal_loss - 0.02038, iou_score - 0.7857]\n",
            "\n",
            "Epoch: 58\n",
            "train: 100%|██████████| 4/4 [00:14<00:00,  3.51s/it, focal_loss - 0.01065, iou_score - 0.8738]\n",
            "valid: 100%|██████████| 1/1 [00:02<00:00,  2.61s/it, focal_loss - 0.02038, iou_score - 0.7868]\n",
            "\n",
            "Epoch: 59\n",
            "train: 100%|██████████| 4/4 [00:14<00:00,  3.51s/it, focal_loss - 0.0103, iou_score - 0.8707]\n",
            "valid: 100%|██████████| 1/1 [00:02<00:00,  2.57s/it, focal_loss - 0.02045, iou_score - 0.7859]\n",
            "\n",
            "Epoch: 60\n",
            "train: 100%|██████████| 4/4 [00:14<00:00,  3.52s/it, focal_loss - 0.009915, iou_score - 0.878]\n",
            "valid: 100%|██████████| 1/1 [00:02<00:00,  2.56s/it, focal_loss - 0.0204, iou_score - 0.7874]\n",
            "\n",
            "Epoch: 61\n",
            "train: 100%|██████████| 4/4 [00:14<00:00,  3.51s/it, focal_loss - 0.0102, iou_score - 0.8742]\n",
            "valid: 100%|██████████| 1/1 [00:02<00:00,  2.60s/it, focal_loss - 0.02045, iou_score - 0.7868]\n",
            "\n",
            "Epoch: 62\n",
            "train: 100%|██████████| 4/4 [00:14<00:00,  3.52s/it, focal_loss - 0.00969, iou_score - 0.8783]\n",
            "valid: 100%|██████████| 1/1 [00:02<00:00,  2.58s/it, focal_loss - 0.02046, iou_score - 0.7872]\n",
            "\n",
            "Epoch: 63\n",
            "train: 100%|██████████| 4/4 [00:14<00:00,  3.53s/it, focal_loss - 0.01089, iou_score - 0.8646]\n",
            "valid: 100%|██████████| 1/1 [00:02<00:00,  2.65s/it, focal_loss - 0.0205, iou_score - 0.7872]\n",
            "\n",
            "Epoch: 64\n",
            "train: 100%|██████████| 4/4 [00:14<00:00,  3.56s/it, focal_loss - 0.01033, iou_score - 0.8728]\n",
            "valid: 100%|██████████| 1/1 [00:02<00:00,  2.58s/it, focal_loss - 0.02049, iou_score - 0.7879]\n",
            "\n",
            "Epoch: 65\n",
            "train: 100%|██████████| 4/4 [00:14<00:00,  3.54s/it, focal_loss - 0.009822, iou_score - 0.8805]\n",
            "valid: 100%|██████████| 1/1 [00:02<00:00,  2.60s/it, focal_loss - 0.02053, iou_score - 0.7878]\n",
            "\n",
            "Epoch: 66\n",
            "train: 100%|██████████| 4/4 [00:14<00:00,  3.54s/it, focal_loss - 0.01121, iou_score - 0.866]\n",
            "valid: 100%|██████████| 1/1 [00:02<00:00,  2.60s/it, focal_loss - 0.02069, iou_score - 0.7843]\n",
            "\n",
            "Epoch: 67\n",
            "train: 100%|██████████| 4/4 [00:14<00:00,  3.54s/it, focal_loss - 0.009734, iou_score - 0.8794]\n",
            "valid: 100%|██████████| 1/1 [00:02<00:00,  2.59s/it, focal_loss - 0.02068, iou_score - 0.7853]\n",
            "\n",
            "Epoch: 68\n",
            "train: 100%|██████████| 4/4 [00:14<00:00,  3.55s/it, focal_loss - 0.01126, iou_score - 0.8579]\n",
            "valid: 100%|██████████| 1/1 [00:02<00:00,  2.59s/it, focal_loss - 0.02055, iou_score - 0.7896]\n",
            "\n",
            "Epoch: 69\n",
            "train: 100%|██████████| 4/4 [00:14<00:00,  3.54s/it, focal_loss - 0.009434, iou_score - 0.8823]\n",
            "valid: 100%|██████████| 1/1 [00:02<00:00,  2.63s/it, focal_loss - 0.0206, iou_score - 0.7881]\n",
            "\n",
            "Epoch: 70\n",
            "train: 100%|██████████| 4/4 [00:14<00:00,  3.54s/it, focal_loss - 0.009841, iou_score - 0.8765]\n",
            "valid: 100%|██████████| 1/1 [00:02<00:00,  2.60s/it, focal_loss - 0.02067, iou_score - 0.7863]\n",
            "\n",
            "Epoch: 71\n",
            "train: 100%|██████████| 4/4 [00:14<00:00,  3.54s/it, focal_loss - 0.01063, iou_score - 0.8706]\n",
            "valid: 100%|██████████| 1/1 [00:02<00:00,  2.59s/it, focal_loss - 0.02079, iou_score - 0.7844]\n",
            "\n",
            "Epoch: 72\n",
            "train: 100%|██████████| 4/4 [00:14<00:00,  3.53s/it, focal_loss - 0.009451, iou_score - 0.8825]\n",
            "valid: 100%|██████████| 1/1 [00:02<00:00,  2.58s/it, focal_loss - 0.02075, iou_score - 0.7853]\n",
            "\n",
            "Epoch: 73\n",
            "train: 100%|██████████| 4/4 [00:14<00:00,  3.54s/it, focal_loss - 0.009446, iou_score - 0.8814]\n",
            "valid: 100%|██████████| 1/1 [00:02<00:00,  2.61s/it, focal_loss - 0.02076, iou_score - 0.7853]\n",
            "\n",
            "Epoch: 74\n",
            "train: 100%|██████████| 4/4 [00:14<00:00,  3.58s/it, focal_loss - 0.009755, iou_score - 0.8815]\n",
            "valid: 100%|██████████| 1/1 [00:02<00:00,  2.59s/it, focal_loss - 0.02066, iou_score - 0.7878]\n",
            "\n",
            "Epoch: 75\n",
            "train: 100%|██████████| 4/4 [00:14<00:00,  3.54s/it, focal_loss - 0.009458, iou_score - 0.8815]\n",
            "valid: 100%|██████████| 1/1 [00:02<00:00,  2.60s/it, focal_loss - 0.0207, iou_score - 0.787]\n",
            "\n",
            "Epoch: 76\n",
            "train: 100%|██████████| 4/4 [00:14<00:00,  3.56s/it, focal_loss - 0.009221, iou_score - 0.8848]\n",
            "valid: 100%|██████████| 1/1 [00:02<00:00,  2.61s/it, focal_loss - 0.02071, iou_score - 0.7875]\n",
            "\n",
            "Epoch: 77\n",
            "train: 100%|██████████| 4/4 [00:14<00:00,  3.60s/it, focal_loss - 0.009836, iou_score - 0.8811]\n",
            "valid: 100%|██████████| 1/1 [00:02<00:00,  2.68s/it, focal_loss - 0.02068, iou_score - 0.7888]\n",
            "\n",
            "Epoch: 78\n",
            "train: 100%|██████████| 4/4 [00:14<00:00,  3.58s/it, focal_loss - 0.009333, iou_score - 0.8842]\n",
            "valid: 100%|██████████| 1/1 [00:02<00:00,  2.66s/it, focal_loss - 0.02067, iou_score - 0.7899]\n",
            "\n",
            "Epoch: 79\n",
            "train: 100%|██████████| 4/4 [00:14<00:00,  3.58s/it, focal_loss - 0.009485, iou_score - 0.8829]\n",
            "valid: 100%|██████████| 1/1 [00:02<00:00,  2.58s/it, focal_loss - 0.02073, iou_score - 0.7894]\n",
            "\n",
            "Epoch: 80\n",
            "train: 100%|██████████| 4/4 [00:14<00:00,  3.51s/it, focal_loss - 0.009374, iou_score - 0.8827]\n",
            "valid: 100%|██████████| 1/1 [00:02<00:00,  2.61s/it, focal_loss - 0.02078, iou_score - 0.7893]\n",
            "\n",
            "Epoch: 81\n",
            "train: 100%|██████████| 4/4 [00:14<00:00,  3.55s/it, focal_loss - 0.009896, iou_score - 0.8783]\n",
            "valid: 100%|██████████| 1/1 [00:02<00:00,  2.62s/it, focal_loss - 0.02085, iou_score - 0.7887]\n",
            "\n",
            "Epoch: 82\n",
            "train: 100%|██████████| 4/4 [00:14<00:00,  3.55s/it, focal_loss - 0.009945, iou_score - 0.8756]\n",
            "valid: 100%|██████████| 1/1 [00:02<00:00,  2.61s/it, focal_loss - 0.02087, iou_score - 0.7889]\n",
            "\n",
            "Epoch: 83\n",
            "train: 100%|██████████| 4/4 [00:14<00:00,  3.58s/it, focal_loss - 0.009381, iou_score - 0.8827]\n",
            "valid: 100%|██████████| 1/1 [00:02<00:00,  2.62s/it, focal_loss - 0.02087, iou_score - 0.7893]\n",
            "\n",
            "Epoch: 84\n",
            "train: 100%|██████████| 4/4 [00:14<00:00,  3.57s/it, focal_loss - 0.009557, iou_score - 0.8803]\n",
            "valid: 100%|██████████| 1/1 [00:02<00:00,  2.61s/it, focal_loss - 0.02083, iou_score - 0.7904]\n",
            "\n",
            "Epoch: 85\n",
            "train: 100%|██████████| 4/4 [00:14<00:00,  3.57s/it, focal_loss - 0.009299, iou_score - 0.8839]\n",
            "valid: 100%|██████████| 1/1 [00:02<00:00,  2.60s/it, focal_loss - 0.02092, iou_score - 0.7895]\n",
            "\n",
            "Epoch: 86\n",
            "train: 100%|██████████| 4/4 [00:14<00:00,  3.54s/it, focal_loss - 0.00975, iou_score - 0.8816]\n",
            "valid: 100%|██████████| 1/1 [00:02<00:00,  2.59s/it, focal_loss - 0.02097, iou_score - 0.7897]\n",
            "\n",
            "Epoch: 87\n",
            "train: 100%|██████████| 4/4 [00:14<00:00,  3.56s/it, focal_loss - 0.009644, iou_score - 0.88]\n",
            "valid: 100%|██████████| 1/1 [00:02<00:00,  2.58s/it, focal_loss - 0.02112, iou_score - 0.7874]\n",
            "\n",
            "Epoch: 88\n",
            "train: 100%|██████████| 4/4 [00:14<00:00,  3.53s/it, focal_loss - 0.009503, iou_score - 0.8842]\n",
            "valid: 100%|██████████| 1/1 [00:02<00:00,  2.58s/it, focal_loss - 0.02105, iou_score - 0.789]\n",
            "\n",
            "Epoch: 89\n",
            "train: 100%|██████████| 4/4 [00:14<00:00,  3.53s/it, focal_loss - 0.01038, iou_score - 0.8673]\n",
            "valid: 100%|██████████| 1/1 [00:02<00:00,  2.55s/it, focal_loss - 0.02111, iou_score - 0.7878]\n",
            "\n",
            "Epoch: 90\n",
            "train: 100%|██████████| 4/4 [00:14<00:00,  3.54s/it, focal_loss - 0.009768, iou_score - 0.8809]\n",
            "valid: 100%|██████████| 1/1 [00:02<00:00,  2.56s/it, focal_loss - 0.02104, iou_score - 0.7906]\n",
            "\n",
            "Epoch: 91\n",
            "train: 100%|██████████| 4/4 [00:14<00:00,  3.52s/it, focal_loss - 0.01033, iou_score - 0.8762]\n",
            "valid: 100%|██████████| 1/1 [00:02<00:00,  2.60s/it, focal_loss - 0.02094, iou_score - 0.7938]\n",
            "\n",
            "Epoch: 92\n",
            "train: 100%|██████████| 4/4 [00:14<00:00,  3.53s/it, focal_loss - 0.009273, iou_score - 0.8888]\n",
            "valid: 100%|██████████| 1/1 [00:02<00:00,  2.60s/it, focal_loss - 0.02094, iou_score - 0.7935]\n",
            "\n",
            "Epoch: 93\n",
            "train: 100%|██████████| 4/4 [00:14<00:00,  3.54s/it, focal_loss - 0.009078, iou_score - 0.8862]\n",
            "valid: 100%|██████████| 1/1 [00:02<00:00,  2.55s/it, focal_loss - 0.02097, iou_score - 0.7918]\n",
            "\n",
            "Epoch: 94\n",
            "train: 100%|██████████| 4/4 [00:14<00:00,  3.51s/it, focal_loss - 0.01071, iou_score - 0.8798]\n",
            "valid: 100%|██████████| 1/1 [00:02<00:00,  2.57s/it, focal_loss - 0.02098, iou_score - 0.7928]\n",
            "\n",
            "Epoch: 95\n",
            "train: 100%|██████████| 4/4 [00:14<00:00,  3.52s/it, focal_loss - 0.009101, iou_score - 0.8873]\n",
            "valid: 100%|██████████| 1/1 [00:02<00:00,  2.59s/it, focal_loss - 0.02109, iou_score - 0.7907]\n",
            "\n",
            "Epoch: 96\n",
            "train: 100%|██████████| 4/4 [00:14<00:00,  3.52s/it, focal_loss - 0.00932, iou_score - 0.8835]\n",
            "valid: 100%|██████████| 1/1 [00:02<00:00,  2.56s/it, focal_loss - 0.02111, iou_score - 0.7909]\n",
            "\n",
            "Epoch: 97\n",
            "train: 100%|██████████| 4/4 [00:14<00:00,  3.54s/it, focal_loss - 0.009883, iou_score - 0.8811]\n",
            "valid: 100%|██████████| 1/1 [00:02<00:00,  2.63s/it, focal_loss - 0.02109, iou_score - 0.7929]\n",
            "\n",
            "Epoch: 98\n",
            "train: 100%|██████████| 4/4 [00:14<00:00,  3.56s/it, focal_loss - 0.008986, iou_score - 0.8875]\n",
            "valid: 100%|██████████| 1/1 [00:02<00:00,  2.60s/it, focal_loss - 0.02115, iou_score - 0.792]\n",
            "\n",
            "Epoch: 99\n",
            "train: 100%|██████████| 4/4 [00:14<00:00,  3.56s/it, focal_loss - 0.009073, iou_score - 0.8857]\n",
            "valid: 100%|██████████| 1/1 [00:02<00:00,  2.61s/it, focal_loss - 0.02119, iou_score - 0.791]\n"
          ]
        }
      ],
      "source": [
        "# Modelo de treino para 100 épocas\n",
        "\n",
        "max_score = 0\n",
        "\n",
        "for i in range(0, 100):\n",
        "\n",
        "    print('\\nEpoch: {}'.format(i))\n",
        "    results = train_logs = train_epoch.run(train_loader)\n",
        "    results = valid_logs = valid_epoch.run(valid_loader)\n",
        "\n",
        "    # Fazer algo (salvar modelo, alterar lr, etc)\n",
        "    if max_score < valid_logs['iou_score']:\n",
        "        max_score = valid_logs['iou_score']\n",
        "        torch.save(model, './best_model.pth')\n",
        "        print('Modelo salvo!')\n",
        "\n",
        "    if i == 25:\n",
        "        optimizer.param_groups[0]['lr'] = 1e-5\n",
        "        print('Diminua a taxa de aprendizagem do decodificador para 1e-5!')"
      ]
    },
    {
      "cell_type": "code",
      "execution_count": null,
      "metadata": {
        "id": "dGZqaK3ss253"
      },
      "outputs": [],
      "source": [
        "# Carregar o melhor ponto de verificação salvo\n",
        "best_model = torch.load('./best_model.pth')"
      ]
    },
    {
      "cell_type": "code",
      "execution_count": null,
      "metadata": {
        "id": "mX1nJlEHtM78"
      },
      "outputs": [],
      "source": [
        "imagem_ori, mask = next(iter(train_loader))\n",
        "best_model.to('cpu')\n",
        "best_model.eval()\n",
        "mask_pred = best_model(imagem_ori)"
      ]
    },
    {
      "cell_type": "code",
      "execution_count": null,
      "metadata": {
        "colab": {
          "base_uri": "https://localhost:8080/"
        },
        "id": "8kVfMxY1uVXl",
        "outputId": "fff3b190-df7a-4416-fb17-1b1418a90a8f"
      },
      "outputs": [
        {
          "data": {
            "text/plain": [
              "torch.Size([16, 3, 256, 256])"
            ]
          },
          "execution_count": 29,
          "metadata": {},
          "output_type": "execute_result"
        }
      ],
      "source": [
        "imagem_ori.shape"
      ]
    },
    {
      "cell_type": "code",
      "execution_count": null,
      "metadata": {
        "id": "SWPvmwxJtM12"
      },
      "outputs": [],
      "source": [
        "sigmoid_batch = torch.sigmoid(mask_pred)\n",
        "imagem1 = mask_pred[4].detach().numpy()"
      ]
    },
    {
      "cell_type": "code",
      "execution_count": null,
      "metadata": {
        "colab": {
          "base_uri": "https://localhost:8080/",
          "height": 373
        },
        "id": "uxJNi4W2tMi4",
        "outputId": "4c2e7bde-1b73-4c53-d79d-497923a7f18f"
      },
      "outputs": [
        {
          "data": {
            "text/plain": [
              "<matplotlib.image.AxesImage at 0x7fbf5252e590>"
            ]
          },
          "execution_count": 48,
          "metadata": {},
          "output_type": "execute_result"
        },
        {
          "data": {
            "image/png": "[encoded data removed]",
            "text/plain": [
              "<Figure size 864x576 with 2 Axes>"
            ]
          },
          "metadata": {},
          "output_type": "display_data"
        }
      ],
      "source": [
        "THRESHHOLD_FINAL = .100\n",
        "\n",
        "plt.figure(figsize=((12,8)))\n",
        "# Discos\n",
        "plt.subplot(1,2,1)\n",
        "plt.imshow(imagem1[0] > THRESHHOLD_FINAL, cmap='gray')\n",
        "\n",
        "# Halos\n",
        "plt.subplot(1,2,2)\n",
        "plt.imshow(imagem1[1] > THRESHHOLD_FINAL, cmap='gray')"
      ]
    },
    {
      "cell_type": "code",
      "execution_count": null,
      "metadata": {
        "id": "1LKIl-InKHXC"
      },
      "outputs": [],
      "source": []
    },
    {
      "cell_type": "code",
      "execution_count": null,
      "metadata": {
        "id": "6sIeL64SCGO-"
      },
      "outputs": [],
      "source": [
        "!cp /content/best_model.pth /content/gdrive/MyDrive/Halos"
      ]
    },
    {
      "cell_type": "code",
      "execution_count": null,
      "metadata": {
        "colab": {
          "base_uri": "https://localhost:8080/"
        },
        "id": "nzkjd3pl2ApX",
        "outputId": "e2c8deb4-0ed6-4995-c964-3cfe9de98318"
      },
      "outputs": [
        {
          "data": {
            "text/plain": [
              "(array([   26,   100,   257, 60580,  3196,   438,   353,   334,   208,\n",
              "           44]),\n",
              " array([-4.7931433 , -3.9042003 , -3.0152576 , -2.1263146 , -1.2373718 ,\n",
              "        -0.34842896,  0.5405139 ,  1.4294567 ,  2.3183997 ,  3.2073424 ,\n",
              "         4.0962853 ], dtype=float32))"
            ]
          },
          "execution_count": 49,
          "metadata": {},
          "output_type": "execute_result"
        }
      ],
      "source": [
        "np.histogram(imagem1[1])"
      ]
    },
    {
      "cell_type": "code",
      "execution_count": null,
      "metadata": {
        "id": "ZsPWWx_YKKoH"
      },
      "outputs": [],
      "source": [
        "import os\n",
        "images = []\n",
        "\n",
        "for filename in os.listdir(\"downloaded\"):\n",
        "    img = Image.open(os.path.join(\"downloaded\", filename))\n",
        "    img = img.resize((32, 32))\n",
        "    plt.imshow(img)\n",
        "    plt.show()\n",
        "    img = np.array(img) / 255\n",
        "    images.append(img)"
      ]
    },
    {
      "cell_type": "code",
      "execution_count": null,
      "metadata": {
        "id": "OYIHy57sKNzQ"
      },
      "outputs": [],
      "source": [
        "predictions = model.predict(images)\n"
      ]
    },
    {
      "cell_type": "code",
      "execution_count": null,
      "metadata": {
        "id": "jO0tvbKTKQa-"
      },
      "outputs": [],
      "source": [
        "fig, axs = plt.subplots(9, 2, figsize=(10, 25))\n",
        "axs = axs.ravel()\n",
        "for i in range(18):\n",
        "    if i%2 == 0:\n",
        "        axs[i].axis('off')\n",
        "        axs[i].imshow(images[i // 2])\n",
        "        axs[i].set_title(\"Prediction: %s\" % id_to_name[np.argmax(predictions[i // 2])])\n",
        "\n",
        "    else:\n",
        "        axs[i].bar(np.arange(65), predictions[i // 2])\n",
        "        axs[i].set_ylabel(\"Softmax\")\n",
        "        axs[i].set_xlabel(\"Labels\")\n",
        "\n",
        "plt.show()"
      ]
    },
    {
      "cell_type": "code",
      "execution_count": null,
      "metadata": {
        "id": "NNX9gFAGKS1X"
      },
      "outputs": [],
      "source": [
        "fig, axs = plt.subplots(9, 2, figsize=(10, 25))\n",
        "axs = axs.ravel()\n",
        "for i in range(18):\n",
        "    if i%2 == 0:\n",
        "        axs[i].axis('off')\n",
        "        axs[i].imshow(images[i // 2])\n",
        "        axs[i].set_title(\"Prediction: %s\" % id_to_name[np.argmax(predictions[i // 2])])\n",
        "        plt.imsave('\"Prediction: %s\" % id_to_name[np.argmax(predictions[i // 2])]',axs[i])\n",
        "\n",
        "    else:\n",
        "        axs[i].bar(np.arange(65), predictions[i // 2])\n",
        "        axs[i].set_ylabel(\"Softmax\")\n",
        "        axs[i].set_xlabel(\"Labels\")\n",
        "\n",
        "\n",
        "plt.show()"
      ]
    },
    {
      "cell_type": "code",
      "execution_count": null,
      "metadata": {
        "id": "D4Eii57QKZ8G"
      },
      "outputs": [],
      "source": [
        "for i in range(len(images)*2):\n",
        "        finalPrediction.append(id_to_name[np.argmax(predictions[i // 2])])\n",
        "        plt.imsave(('testo/ {}.jpg'.format(str(i // 2)+id_to_name[np.argmax(predictions[i // 2])])),images[i // 2])"
      ]
    }
  ],
  "metadata": {
    "accelerator": "GPU",
    "colab": {
      "provenance": [],
      "include_colab_link": true
    },
    "kernelspec": {
      "display_name": "Python 3",
      "name": "python3"
    },
    "language_info": {
      "name": "python"
    },
    "widgets": {
      "application/vnd.jupyter.widget-state+json": {
        "2e3bb4274e774cc4b5a22fb763f1c4a3": {
          "model_module": "@jupyter-widgets/controls",
          "model_module_version": "1.5.0",
          "model_name": "HBoxModel",
          "state": {
            "_dom_classes": [],
            "_model_module": "@jupyter-widgets/controls",
            "_model_module_version": "1.5.0",
            "_model_name": "HBoxModel",
            "_view_count": null,
            "_view_module": "@jupyter-widgets/controls",
            "_view_module_version": "1.5.0",
            "_view_name": "HBoxView",
            "box_style": "",
            "children": [
              "IPY_MODEL_e90727da98034fa38f3cd2ce56ccedb6",
              "IPY_MODEL_edc3347af46b416b9b5ea69e98d90322",
              "IPY_MODEL_3f3c0d1c37ce44d38ed27de87bd77b26"
            ],
            "layout": "IPY_MODEL_fc200403c3bb463681397baaec2921f9"
          }
        },
        "3d64f2c7e5a94b61a243931c9d31ae33": {
          "model_module": "@jupyter-widgets/controls",
          "model_module_version": "1.5.0",
          "model_name": "DescriptionStyleModel",
          "state": {
            "_model_module": "@jupyter-widgets/controls",
            "_model_module_version": "1.5.0",
            "_model_name": "DescriptionStyleModel",
            "_view_count": null,
            "_view_module": "@jupyter-widgets/base",
            "_view_module_version": "1.2.0",
            "_view_name": "StyleView",
            "description_width": ""
          }
        },
        "3f3c0d1c37ce44d38ed27de87bd77b26": {
          "model_module": "@jupyter-widgets/controls",
          "model_module_version": "1.5.0",
          "model_name": "HTMLModel",
          "state": {
            "_dom_classes": [],
            "_model_module": "@jupyter-widgets/controls",
            "_model_module_version": "1.5.0",
            "_model_name": "HTMLModel",
            "_view_count": null,
            "_view_module": "@jupyter-widgets/controls",
            "_view_module_version": "1.5.0",
            "_view_name": "HTMLView",
            "description": "",
            "description_tooltip": null,
            "layout": "IPY_MODEL_efd3a9f987de49b5857d863dd7f49abb",
            "placeholder": "​",
            "style": "IPY_MODEL_3d64f2c7e5a94b61a243931c9d31ae33",
            "value": " 83.3M/83.3M [00:03&lt;00:00, 25.4MB/s]"
          }
        },
        "787ee4ec2fb2425d97551537199a49fb": {
          "model_module": "@jupyter-widgets/base",
          "model_module_version": "1.2.0",
          "model_name": "LayoutModel",
          "state": {
            "_model_module": "@jupyter-widgets/base",
            "_model_module_version": "1.2.0",
            "_model_name": "LayoutModel",
            "_view_count": null,
            "_view_module": "@jupyter-widgets/base",
            "_view_module_version": "1.2.0",
            "_view_name": "LayoutView",
            "align_content": null,
            "align_items": null,
            "align_self": null,
            "border": null,
            "bottom": null,
            "display": null,
            "flex": null,
            "flex_flow": null,
            "grid_area": null,
            "grid_auto_columns": null,
            "grid_auto_flow": null,
            "grid_auto_rows": null,
            "grid_column": null,
            "grid_gap": null,
            "grid_row": null,
            "grid_template_areas": null,
            "grid_template_columns": null,
            "grid_template_rows": null,
            "height": null,
            "justify_content": null,
            "justify_items": null,
            "left": null,
            "margin": null,
            "max_height": null,
            "max_width": null,
            "min_height": null,
            "min_width": null,
            "object_fit": null,
            "object_position": null,
            "order": null,
            "overflow": null,
            "overflow_x": null,
            "overflow_y": null,
            "padding": null,
            "right": null,
            "top": null,
            "visibility": null,
            "width": null
          }
        },
        "8926b53c756946448a401a840b004fdd": {
          "model_module": "@jupyter-widgets/controls",
          "model_module_version": "1.5.0",
          "model_name": "ProgressStyleModel",
          "state": {
            "_model_module": "@jupyter-widgets/controls",
            "_model_module_version": "1.5.0",
            "_model_name": "ProgressStyleModel",
            "_view_count": null,
            "_view_module": "@jupyter-widgets/base",
            "_view_module_version": "1.2.0",
            "_view_name": "StyleView",
            "bar_color": null,
            "description_width": ""
          }
        },
        "8e1d26bfbe514cceaa7c3aaf783570c5": {
          "model_module": "@jupyter-widgets/controls",
          "model_module_version": "1.5.0",
          "model_name": "DescriptionStyleModel",
          "state": {
            "_model_module": "@jupyter-widgets/controls",
            "_model_module_version": "1.5.0",
            "_model_name": "DescriptionStyleModel",
            "_view_count": null,
            "_view_module": "@jupyter-widgets/base",
            "_view_module_version": "1.2.0",
            "_view_name": "StyleView",
            "description_width": ""
          }
        },
        "c52a7088baf143699fbc24d4b4ce1b7f": {
          "model_module": "@jupyter-widgets/base",
          "model_module_version": "1.2.0",
          "model_name": "LayoutModel",
          "state": {
            "_model_module": "@jupyter-widgets/base",
            "_model_module_version": "1.2.0",
            "_model_name": "LayoutModel",
            "_view_count": null,
            "_view_module": "@jupyter-widgets/base",
            "_view_module_version": "1.2.0",
            "_view_name": "LayoutView",
            "align_content": null,
            "align_items": null,
            "align_self": null,
            "border": null,
            "bottom": null,
            "display": null,
            "flex": null,
            "flex_flow": null,
            "grid_area": null,
            "grid_auto_columns": null,
            "grid_auto_flow": null,
            "grid_auto_rows": null,
            "grid_column": null,
            "grid_gap": null,
            "grid_row": null,
            "grid_template_areas": null,
            "grid_template_columns": null,
            "grid_template_rows": null,
            "height": null,
            "justify_content": null,
            "justify_items": null,
            "left": null,
            "margin": null,
            "max_height": null,
            "max_width": null,
            "min_height": null,
            "min_width": null,
            "object_fit": null,
            "object_position": null,
            "order": null,
            "overflow": null,
            "overflow_x": null,
            "overflow_y": null,
            "padding": null,
            "right": null,
            "top": null,
            "visibility": null,
            "width": null
          }
        },
        "e90727da98034fa38f3cd2ce56ccedb6": {
          "model_module": "@jupyter-widgets/controls",
          "model_module_version": "1.5.0",
          "model_name": "HTMLModel",
          "state": {
            "_dom_classes": [],
            "_model_module": "@jupyter-widgets/controls",
            "_model_module_version": "1.5.0",
            "_model_name": "HTMLModel",
            "_view_count": null,
            "_view_module": "@jupyter-widgets/controls",
            "_view_module_version": "1.5.0",
            "_view_name": "HTMLView",
            "description": "",
            "description_tooltip": null,
            "layout": "IPY_MODEL_787ee4ec2fb2425d97551537199a49fb",
            "placeholder": "​",
            "style": "IPY_MODEL_8e1d26bfbe514cceaa7c3aaf783570c5",
            "value": "100%"
          }
        },
        "edc3347af46b416b9b5ea69e98d90322": {
          "model_module": "@jupyter-widgets/controls",
          "model_module_version": "1.5.0",
          "model_name": "FloatProgressModel",
          "state": {
            "_dom_classes": [],
            "_model_module": "@jupyter-widgets/controls",
            "_model_module_version": "1.5.0",
            "_model_name": "FloatProgressModel",
            "_view_count": null,
            "_view_module": "@jupyter-widgets/controls",
            "_view_module_version": "1.5.0",
            "_view_name": "ProgressView",
            "bar_style": "success",
            "description": "",
            "description_tooltip": null,
            "layout": "IPY_MODEL_c52a7088baf143699fbc24d4b4ce1b7f",
            "max": 87306240,
            "min": 0,
            "orientation": "horizontal",
            "style": "IPY_MODEL_8926b53c756946448a401a840b004fdd",
            "value": 87306240
          }
        },
        "efd3a9f987de49b5857d863dd7f49abb": {
          "model_module": "@jupyter-widgets/base",
          "model_module_version": "1.2.0",
          "model_name": "LayoutModel",
          "state": {
            "_model_module": "@jupyter-widgets/base",
            "_model_module_version": "1.2.0",
            "_model_name": "LayoutModel",
            "_view_count": null,
            "_view_module": "@jupyter-widgets/base",
            "_view_module_version": "1.2.0",
            "_view_name": "LayoutView",
            "align_content": null,
            "align_items": null,
            "align_self": null,
            "border": null,
            "bottom": null,
            "display": null,
            "flex": null,
            "flex_flow": null,
            "grid_area": null,
            "grid_auto_columns": null,
            "grid_auto_flow": null,
            "grid_auto_rows": null,
            "grid_column": null,
            "grid_gap": null,
            "grid_row": null,
            "grid_template_areas": null,
            "grid_template_columns": null,
            "grid_template_rows": null,
            "height": null,
            "justify_content": null,
            "justify_items": null,
            "left": null,
            "margin": null,
            "max_height": null,
            "max_width": null,
            "min_height": null,
            "min_width": null,
            "object_fit": null,
            "object_position": null,
            "order": null,
            "overflow": null,
            "overflow_x": null,
            "overflow_y": null,
            "padding": null,
            "right": null,
            "top": null,
            "visibility": null,
            "width": null
          }
        },
        "fc200403c3bb463681397baaec2921f9": {
          "model_module": "@jupyter-widgets/base",
          "model_module_version": "1.2.0",
          "model_name": "LayoutModel",
          "state": {
            "_model_module": "@jupyter-widgets/base",
            "_model_module_version": "1.2.0",
            "_model_name": "LayoutModel",
            "_view_count": null,
            "_view_module": "@jupyter-widgets/base",
            "_view_module_version": "1.2.0",
            "_view_name": "LayoutView",
            "align_content": null,
            "align_items": null,
            "align_self": null,
            "border": null,
            "bottom": null,
            "display": null,
            "flex": null,
            "flex_flow": null,
            "grid_area": null,
            "grid_auto_columns": null,
            "grid_auto_flow": null,
            "grid_auto_rows": null,
            "grid_column": null,
            "grid_gap": null,
            "grid_row": null,
            "grid_template_areas": null,
            "grid_template_columns": null,
            "grid_template_rows": null,
            "height": null,
            "justify_content": null,
            "justify_items": null,
            "left": null,
            "margin": null,
            "max_height": null,
            "max_width": null,
            "min_height": null,
            "min_width": null,
            "object_fit": null,
            "object_position": null,
            "order": null,
            "overflow": null,
            "overflow_x": null,
            "overflow_y": null,
            "padding": null,
            "right": null,
            "top": null,
            "visibility": null,
            "width": null
          }
        }
      }
    }
  },
  "nbformat": 4,
  "nbformat_minor": 0
}